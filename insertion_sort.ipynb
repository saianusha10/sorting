{
  "nbformat": 4,
  "nbformat_minor": 0,
  "metadata": {
    "colab": {
      "provenance": [],
      "authorship_tag": "ABX9TyMhIHGIochQq4vkZPi+3htH",
      "include_colab_link": true
    },
    "kernelspec": {
      "name": "python3",
      "display_name": "Python 3"
    },
    "language_info": {
      "name": "python"
    }
  },
  "cells": [
    {
      "cell_type": "markdown",
      "metadata": {
        "id": "view-in-github",
        "colab_type": "text"
      },
      "source": [
        "<a href=\"https://colab.research.google.com/github/saianusha10/sorting/blob/main/insertion_sort.ipynb\" target=\"_parent\"><img src=\"https://colab.research.google.com/assets/colab-badge.svg\" alt=\"Open In Colab\"/></a>"
      ]
    },
    {
      "cell_type": "code",
      "execution_count": 1,
      "metadata": {
        "colab": {
          "base_uri": "https://localhost:8080/"
        },
        "id": "KEbrCvh53Po9",
        "outputId": "fe079513-046d-4153-c447-c10cc7f19df0"
      },
      "outputs": [
        {
          "output_type": "stream",
          "name": "stdout",
          "text": [
            "[1, 2, 4, 6, 9]\n"
          ]
        }
      ],
      "source": [
        "def insertionsort(array):\n",
        "    for i in range(1, len(array)):\n",
        "        k = array[i]\n",
        "        j = i - 1\n",
        "        while j >= 0 and k < array[j]:\n",
        "           array[j + 1] = array[j]\n",
        "           j -= 1\n",
        "           array[j + 1] = k\n",
        "    return array\n",
        "\n",
        "a = insertionsort([2,6,4,9,1])\n",
        "print(a)"
      ]
    }
  ]
}