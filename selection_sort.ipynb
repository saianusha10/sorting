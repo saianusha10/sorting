{
  "nbformat": 4,
  "nbformat_minor": 0,
  "metadata": {
    "colab": {
      "provenance": [],
      "authorship_tag": "ABX9TyM7jlE84R8PQenC92rgFpue",
      "include_colab_link": true
    },
    "kernelspec": {
      "name": "python3",
      "display_name": "Python 3"
    },
    "language_info": {
      "name": "python"
    }
  },
  "cells": [
    {
      "cell_type": "markdown",
      "metadata": {
        "id": "view-in-github",
        "colab_type": "text"
      },
      "source": [
        "<a href=\"https://colab.research.google.com/github/saianusha10/sorting/blob/main/selection_sort.ipynb\" target=\"_parent\"><img src=\"https://colab.research.google.com/assets/colab-badge.svg\" alt=\"Open In Colab\"/></a>"
      ]
    },
    {
      "cell_type": "code",
      "execution_count": 1,
      "metadata": {
        "colab": {
          "base_uri": "https://localhost:8080/"
        },
        "id": "TYDU3jOE4MUY",
        "outputId": "3e78bad1-5ae8-492d-efa7-258539cdbb80"
      },
      "outputs": [
        {
          "output_type": "stream",
          "name": "stdout",
          "text": [
            "[12, 20, 23, 50, 60]\n"
          ]
        }
      ],
      "source": [
        "def selectionsort(array):\n",
        "    for i in range(len(array)):\n",
        "        min = i\n",
        "        for j in range(i + 1, len(array)):\n",
        "            if array[j] < array[min]:\n",
        "                min = j\n",
        "        array[i], array[min] = array[min], array[i]\n",
        "    return array\n",
        "\n",
        "a = selectionsort([23,12,20,50,60])\n",
        "print(a)"
      ]
    }
  ]
}