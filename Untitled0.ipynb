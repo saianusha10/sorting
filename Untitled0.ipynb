{
  "nbformat": 4,
  "nbformat_minor": 0,
  "metadata": {
    "colab": {
      "provenance": [],
      "authorship_tag": "ABX9TyMD+LLTgoX4ktNN/aIne8Zk",
      "include_colab_link": true
    },
    "kernelspec": {
      "name": "python3",
      "display_name": "Python 3"
    },
    "language_info": {
      "name": "python"
    }
  },
  "cells": [
    {
      "cell_type": "markdown",
      "metadata": {
        "id": "view-in-github",
        "colab_type": "text"
      },
      "source": [
        "<a href=\"https://colab.research.google.com/github/saianusha10/sorting/blob/main/Untitled0.ipynb\" target=\"_parent\"><img src=\"https://colab.research.google.com/assets/colab-badge.svg\" alt=\"Open In Colab\"/></a>"
      ]
    },
    {
      "cell_type": "code",
      "execution_count": 2,
      "metadata": {
        "id": "TeTdvqEazr-O",
        "colab": {
          "base_uri": "https://localhost:8080/"
        },
        "outputId": "d955c9d5-faab-497d-9325-da631428df06"
      },
      "outputs": [
        {
          "output_type": "stream",
          "name": "stdout",
          "text": [
            "[12, 20, 23, 50, 60]\n"
          ]
        }
      ],
      "source": [
        "def bubblesort(array):\n",
        "    n = len(array)\n",
        "    for i in range(n):\n",
        "        swap = False\n",
        "        for j in range(0, n - i - 1):\n",
        "            if array[j] > array[j + 1]:\n",
        "                array[j], array[j + 1] = array[j + 1], array[j]\n",
        "                swap = True\n",
        "        if not swap:\n",
        "            break\n",
        "    return array\n",
        "\n",
        "a = bubblesort([23,12,20,50,60])\n",
        "print(a)"
      ]
    },
    {
      "cell_type": "code",
      "source": [],
      "metadata": {
        "id": "Vo5YDWsIzt5u"
      },
      "execution_count": null,
      "outputs": []
    }
  ]
}